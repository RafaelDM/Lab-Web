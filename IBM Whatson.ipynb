{
 "cells": [
  {
   "cell_type": "code",
   "execution_count": 20,
   "metadata": {},
   "outputs": [],
   "source": [
    "import os\n",
    "import json\n",
    "import logging\n",
    "logging.basicConfig(level=logging.INFO)\n",
    "_logger = logging.getLogger(__name__) \n",
    "import requests\n",
    "\n",
    "from jsonschema import validate, ValidationError\n",
    "from ibm_watson import AssistantV2, ApiException\n",
    "from ibm_cloud_sdk_core.authenticators import IAMAuthenticator\n",
    "from flask import jsonify\n",
    "from flask_api import status\n"
   ]
  },
  {
   "cell_type": "code",
   "execution_count": 37,
   "metadata": {},
   "outputs": [],
   "source": [
    "request_data = {\n",
    "            \"assistant_api_key\": \"EvG4FigjVLQbUgcjtgegK4XHfhv-Nn7r3iMtZBIo1xU8\",\n",
    "            \"assistant_url\": \"https://api.us-south.assistant.watson.cloud.ibm.com/instances/2970b5ba-96c8-4342-b392-83f1e43efa31\",\n",
    "            \"assistant_version\": \"2020-08-31\",\n",
    "            \"assistant_id\": \"89eb5dd2-fbaf-4a28-a8f2-b8efe1ca69fb\"\n",
    "        }\n",
    "    \n",
    "def watson_create_session():\n",
    "\n",
    "\n",
    "    \n",
    "    iam_apikey = request_data.get(\"assistant_api_key\")\n",
    "    assistant_url = request_data.get(\"assistant_url\")\n",
    "    assistant_version = request_data.get('assistant_version')\n",
    "\n",
    "    assistant = watson_instance(iam_apikey, assistant_url, assistant_version)\n",
    "\n",
    "    try:\n",
    "        watson_session = assistant.create_session(\n",
    "            assistant_id=request_data.get(\"assistant_id\")\n",
    "        ).get_result()\n",
    "        watson_session_id = watson_session[\"session_id\"]\n",
    "    except KeyError:\n",
    "        _logger.error(\"The session wasn't created\")\n",
    "        return jsonify({\"error\": \"Error creating the session\"}), status.HTTP_503_SERVICE_UNAVAILABLE\n",
    "\n",
    "    return watson_session_id\n",
    "\n",
    "\n",
    "def watson_response(session_id, message):\n",
    "    \n",
    "    iam_apikey = request_data.get(\"assistant_api_key\")\n",
    "    assistant_url = request_data.get(\"assistant_url\")\n",
    "    assistant_version = request_data.get('assistant_version')\n",
    "\n",
    "    assistant = watson_instance(iam_apikey, assistant_url, assistant_version)\n",
    "    context = request_data.get('context') if 'context' in request_data else {}\n",
    "    watson_session_id = session_id#request_data.get('session_id')\n",
    "\n",
    "    try:\n",
    "        watson_response = assistant.message(\n",
    "            assistant_id=request_data.get('assistant_id'),\n",
    "            session_id=watson_session_id,\n",
    "            input={\n",
    "                'message_type': 'text',\n",
    "                'text': message,\n",
    "                'options': {\n",
    "                    'return_context': True\n",
    "                }\n",
    "            },\n",
    "            context=context\n",
    "        ).get_result()\n",
    "    except ValueError as ex:\n",
    "        _logger.error(\"Value error: %s\", ex)\n",
    "        return jsonify({'error': \"Value error\"}), status.HTTP_500_INTERNAL_SERVER_ERROR\n",
    "    except ApiException:\n",
    "        try:\n",
    "            watson_session = assistant.create_session(\n",
    "                assistant_id=request_data.get(\"assistant_id\")\n",
    "            ).get_result()\n",
    "            watson_session_id = watson_session[\"session_id\"]\n",
    "\n",
    "            watson_response = assistant.message(\n",
    "                assistant_id=request_data.get('assistant_id'),\n",
    "                session_id=watson_session_id,\n",
    "                input={\n",
    "                    'message_type': 'text',\n",
    "                    'text': request_data.get('input_message'),\n",
    "                    'options': {\n",
    "                        'return_context': True\n",
    "                    }\n",
    "                },\n",
    "                context=context\n",
    "            ).get_result()\n",
    "        except KeyError:\n",
    "            _logger.error(\"The session wasn't created\")\n",
    "            return jsonify({\"error\": \"Error creating the session\"}), status.HTTP_503_SERVICE_UNAVAILABLE\n",
    "\n",
    "    try:\n",
    "        del watson_response[\"context\"][\"global\"][\"session_id\"]\n",
    "    except:\n",
    "        pass\n",
    "\n",
    "    response = {\n",
    "        \"response\": watson_response,\n",
    "        \"session_id\": watson_session_id\n",
    "    }\n",
    "\n",
    "    return response\n",
    "\n",
    "def watson_instance(iam_apikey: str, url: str, version: str = \"2019-02-28\") -> AssistantV2:\n",
    "    try:\n",
    "        authenticator = IAMAuthenticator(iam_apikey)\n",
    "        assistant = AssistantV2(\n",
    "            authenticator=authenticator,\n",
    "            version=version\n",
    "        )\n",
    "        assistant.set_service_url(url)\n",
    "    except ApiException as error:\n",
    "        _logger.error(\"%s - %s\", error.code, error.message)\n",
    "        return jsonify({'error': str(error.message)}), error.code\n",
    "\n",
    "    return assistant\n"
   ]
  },
  {
   "cell_type": "code",
   "execution_count": 38,
   "metadata": {},
   "outputs": [],
   "source": [
    "\n",
    "session = watson_create_session()"
   ]
  },
  {
   "cell_type": "code",
   "execution_count": 39,
   "metadata": {},
   "outputs": [
    {
     "data": {
      "text/plain": [
       "'ac1d4529-cca7-422a-a54d-27dcdb0d37fb'"
      ]
     },
     "execution_count": 39,
     "metadata": {},
     "output_type": "execute_result"
    }
   ],
   "source": [
    "session"
   ]
  },
  {
   "cell_type": "code",
   "execution_count": 40,
   "metadata": {},
   "outputs": [
    {
     "data": {
      "text/plain": [
       "{'response': {'output': {'intents': [{'intent': 'Salutations',\n",
       "     'confidence': 1}],\n",
       "   'entities': [],\n",
       "   'generic': [{'response_type': 'text', 'text': 'Hi, how can I help?'}]},\n",
       "  'context': {'global': {'system': {'turn_count': 1}},\n",
       "   'skills': {'main skill': {'system': {}}}}},\n",
       " 'session_id': 'ac1d4529-cca7-422a-a54d-27dcdb0d37fb'}"
      ]
     },
     "execution_count": 40,
     "metadata": {},
     "output_type": "execute_result"
    }
   ],
   "source": [
    "watson_response(session, 'hi')"
   ]
  },
  {
   "cell_type": "code",
   "execution_count": null,
   "metadata": {},
   "outputs": [],
   "source": [
    "#response[\"response\"][\"output\"][\"intents\"][0][\"intent\"]"
   ]
  },
  {
   "cell_type": "code",
   "execution_count": null,
   "metadata": {},
   "outputs": [],
   "source": []
  },
  {
   "cell_type": "code",
   "execution_count": null,
   "metadata": {},
   "outputs": [],
   "source": []
  }
 ],
 "metadata": {
  "kernelspec": {
   "display_name": "Python 3",
   "language": "python",
   "name": "python3"
  },
  "language_info": {
   "codemirror_mode": {
    "name": "ipython",
    "version": 3
   },
   "file_extension": ".py",
   "mimetype": "text/x-python",
   "name": "python",
   "nbconvert_exporter": "python",
   "pygments_lexer": "ipython3",
   "version": "3.7.6"
  }
 },
 "nbformat": 4,
 "nbformat_minor": 4
}