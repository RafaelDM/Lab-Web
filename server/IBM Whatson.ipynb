{
 "cells": [
  {
   "cell_type": "code",
   "execution_count": 96,
   "metadata": {},
   "outputs": [],
   "source": [
    "import os\n",
    "import json\n",
    "import logging\n",
    "import requests\n",
    "\n",
    "from jsonschema import validate, ValidationError\n",
    "from ibm_watson import AssistantV2, ApiException\n",
    "from ibm_cloud_sdk_core.authenticators import IAMAuthenticator\n",
    "from flask import jsonify\n",
    "from flask_api import status\n"
   ]
  },
  {
   "cell_type": "code",
   "execution_count": 124,
   "metadata": {},
   "outputs": [],
   "source": [
    "request_data = {\n",
    "            \"assistant_api_key\": \"ylfuaZHvS5Yy-z_EP1D3JosGHsPWEQx0gixsiRH0pz0i\",\n",
    "            \"assistant_url\": \"https://api.us-east.assistant.watson.cloud.ibm.com/instances/82bb23c0-cb3d-42e9-8e93-ee365da0a9e8\",\n",
    "            \"assistant_version\": \"2019-02-28\",\n",
    "            \"assistant_id\": \"a68ebdc8-1434-4088-8cb4-8341199d543a\",\n",
    "\"session_id\":        '7d918749-04bd-44f7-913c-707a745729b7'\n",
    "\n",
    "        }\n",
    "    \n",
    "def watson_create_session():\n",
    "\n",
    "\n",
    "    \n",
    "    iam_apikey = request_data.get(\"assistant_api_key\")\n",
    "    assistant_url = request_data.get(\"assistant_url\")\n",
    "    assistant_version = request_data.get('assistant_version')\n",
    "\n",
    "    assistant = watson_instance(iam_apikey, assistant_url, assistant_version)\n",
    "\n",
    "    try:\n",
    "        watson_session = assistant.create_session(\n",
    "            assistant_id=request_data.get(\"assistant_id\")\n",
    "        ).get_result()\n",
    "        watson_session_id = watson_session[\"session_id\"]\n",
    "    except KeyError:\n",
    "        _logger.error(\"The session wasn't created\")\n",
    "        return jsonify({\"error\": \"Error creating the session\"}), status.HTTP_503_SERVICE_UNAVAILABLE\n",
    "\n",
    "    return watson_session_id\n",
    "\n",
    "\n",
    "def watson_response():\n",
    "    \n",
    "    iam_apikey = request_data.get(\"assistant_api_key\")\n",
    "    assistant_url = request_data.get(\"assistant_url\")\n",
    "    assistant_version = request_data.get('assistant_version')\n",
    "\n",
    "    assistant = watson_instance(iam_apikey, assistant_url, assistant_version)\n",
    "    context = request_data.get('context') if 'context' in request_data else {}\n",
    "    watson_session_id = request_data.get('session_id')\n",
    "\n",
    "    try:\n",
    "        watson_response = assistant.message(\n",
    "            assistant_id=request_data.get('assistant_id'),\n",
    "            session_id=watson_session_id,\n",
    "            input={\n",
    "                'message_type': 'text',\n",
    "                'text': \"precios\",\n",
    "                'options': {\n",
    "                    'return_context': True\n",
    "                }\n",
    "            },\n",
    "            context=context\n",
    "        ).get_result()\n",
    "    except ValueError as ex:\n",
    "        _logger.error(\"Value error: %s\", ex)\n",
    "        return jsonify({'error': \"Value error\"}), status.HTTP_500_INTERNAL_SERVER_ERROR\n",
    "    except ApiException:\n",
    "        try:\n",
    "            watson_session = assistant.create_session(\n",
    "                assistant_id=request_data.get(\"assistant_id\")\n",
    "            ).get_result()\n",
    "            watson_session_id = watson_session[\"session_id\"]\n",
    "\n",
    "            watson_response = assistant.message(\n",
    "                assistant_id=request_data.get('assistant_id'),\n",
    "                session_id=watson_session_id,\n",
    "                input={\n",
    "                    'message_type': 'text',\n",
    "                    'text': request_data.get('input_message'),\n",
    "                    'options': {\n",
    "                        'return_context': True\n",
    "                    }\n",
    "                },\n",
    "                context=context\n",
    "            ).get_result()\n",
    "        except KeyError:\n",
    "            _logger.error(\"The session wasn't created\")\n",
    "            return jsonify({\"error\": \"Error creating the session\"}), status.HTTP_503_SERVICE_UNAVAILABLE\n",
    "\n",
    "    try:\n",
    "        del watson_response[\"context\"][\"global\"][\"session_id\"]\n",
    "    except:\n",
    "        pass\n",
    "\n",
    "    response = {\n",
    "        \"response\": watson_response,\n",
    "        \"session_id\": watson_session_id\n",
    "    }\n",
    "\n",
    "    return response\n",
    "\n",
    "def watson_instance(iam_apikey: str, url: str, version: str = \"2019-02-28\") -> AssistantV2:\n",
    "    try:\n",
    "        authenticator = IAMAuthenticator(iam_apikey)\n",
    "        assistant = AssistantV2(\n",
    "            authenticator=authenticator,\n",
    "            version=version\n",
    "        )\n",
    "        assistant.set_service_url(url)\n",
    "    except ApiException as error:\n",
    "        _logger.error(\"%s - %s\", error.code, error.message)\n",
    "        return jsonify({'error': str(error.message)}), error.code\n",
    "\n",
    "    return assistant\n"
   ]
  },
  {
   "cell_type": "code",
   "execution_count": 127,
   "metadata": {},
   "outputs": [
    {
     "data": {
      "text/plain": [
       "'226c65d2-bc99-423a-a21a-e345d824e999'"
      ]
     },
     "execution_count": 127,
     "metadata": {},
     "output_type": "execute_result"
    }
   ],
   "source": [
    "\n",
    "watson_create_session()"
   ]
  },
  {
   "cell_type": "code",
   "execution_count": 128,
   "metadata": {},
   "outputs": [
    {
     "data": {
      "text/plain": [
       "{'response': {'output': {'intents': [{'intent': 'listaPrecios',\n",
       "     'confidence': 1}],\n",
       "   'entities': [],\n",
       "   'generic': []},\n",
       "  'context': {'global': {'system': {'turn_count': 7}},\n",
       "   'skills': {'main skill': {'system': {}}}}},\n",
       " 'session_id': '7d918749-04bd-44f7-913c-707a745729b7'}"
      ]
     },
     "execution_count": 128,
     "metadata": {},
     "output_type": "execute_result"
    }
   ],
   "source": [
    "watson_response()"
   ]
  },
  {
   "cell_type": "code",
   "execution_count": null,
   "metadata": {},
   "outputs": [],
   "source": []
  },
  {
   "cell_type": "code",
   "execution_count": null,
   "metadata": {},
   "outputs": [],
   "source": []
  },
  {
   "cell_type": "code",
   "execution_count": null,
   "metadata": {},
   "outputs": [],
   "source": []
  }
 ],
 "metadata": {
  "kernelspec": {
   "display_name": "Python 3",
   "language": "python",
   "name": "python3"
  },
  "language_info": {
   "codemirror_mode": {
    "name": "ipython",
    "version": 3
   },
   "file_extension": ".py",
   "mimetype": "text/x-python",
   "name": "python",
   "nbconvert_exporter": "python",
   "pygments_lexer": "ipython3",
   "version": "3.8.0"
  }
 },
 "nbformat": 4,
 "nbformat_minor": 4
}
